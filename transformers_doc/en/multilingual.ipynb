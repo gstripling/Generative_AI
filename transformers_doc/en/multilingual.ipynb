{
  "cells": [
    {
      "cell_type": "code",
      "execution_count": null,
      "metadata": {
        "id": "-gvCtqWOL71n"
      },
      "outputs": [],
      "source": [
        "# Transformers installation\n",
        "! pip install transformers datasets\n",
        "# To install from source instead of the last release, comment the command above and uncomment the following one.\n",
        "# ! pip install git+https://github.com/huggingface/transformers.git"
      ]
    },
    {
      "cell_type": "markdown",
      "metadata": {
        "id": "j1F01_iBL71r"
      },
      "source": [
        "# Multilingual models for inference"
      ]
    },
    {
      "cell_type": "markdown",
      "metadata": {
        "id": "NVBOE4pTL71t"
      },
      "source": [
        "There are several multilingual models in 🤗 Transformers, and their inference usage differs from monolingual models. Not *all* multilingual model usage is different though. Some models, like [bert-base-multilingual-uncased](https://huggingface.co/bert-base-multilingual-uncased), can be used just like a monolingual model. This guide will show you how to use multilingual models whose usage differs for inference."
      ]
    },
    {
      "cell_type": "markdown",
      "metadata": {
        "id": "t0BxdZZlL71u"
      },
      "source": [
        "## XLM"
      ]
    },
    {
      "cell_type": "markdown",
      "metadata": {
        "id": "sFhp0vnwL71u"
      },
      "source": [
        "XLM has ten different checkpoints, only one of which is monolingual. The nine remaining model checkpoints can be split into two categories: the checkpoints that use language embeddings and those that don't."
      ]
    },
    {
      "cell_type": "markdown",
      "metadata": {
        "id": "FpCIU06YL71v"
      },
      "source": [
        "### XLM with language embeddings"
      ]
    },
    {
      "cell_type": "markdown",
      "metadata": {
        "id": "5nE_M5mCL71v"
      },
      "source": [
        "The following XLM models use language embeddings to specify the language used at inference:\n",
        "\n",
        "- `xlm-mlm-ende-1024` (Masked language modeling, English-German)\n",
        "- `xlm-mlm-enfr-1024` (Masked language modeling, English-French)\n",
        "- `xlm-mlm-enro-1024` (Masked language modeling, English-Romanian)\n",
        "- `xlm-mlm-xnli15-1024` (Masked language modeling, XNLI languages)\n",
        "- `xlm-mlm-tlm-xnli15-1024` (Masked language modeling + translation, XNLI languages)\n",
        "- `xlm-clm-enfr-1024` (Causal language modeling, English-French)\n",
        "- `xlm-clm-ende-1024` (Causal language modeling, English-German)\n",
        "\n",
        "Language embeddings are represented as a tensor of the same shape as the `input_ids` passed to the model. The values in these tensors depend on the language used and are identified by the tokenizer's `lang2id` and `id2lang` attributes.\n",
        "\n",
        "In this example, load the `xlm-clm-enfr-1024` checkpoint (Causal language modeling, English-French):"
      ]
    },
    {
      "cell_type": "code",
      "execution_count": null,
      "metadata": {
        "id": "t2UOvWOrL71w"
      },
      "outputs": [],
      "source": [
        "import torch\n",
        "from transformers import XLMTokenizer, XLMWithLMHeadModel\n",
        "\n",
        "tokenizer = XLMTokenizer.from_pretrained(\"xlm-clm-enfr-1024\")\n",
        "model = XLMWithLMHeadModel.from_pretrained(\"xlm-clm-enfr-1024\")"
      ]
    },
    {
      "cell_type": "markdown",
      "metadata": {
        "id": "BSH-PKR7L71w"
      },
      "source": [
        "The `lang2id` attribute of the tokenizer displays this model's languages and their ids:"
      ]
    },
    {
      "cell_type": "code",
      "execution_count": null,
      "metadata": {
        "id": "S5KgDZn2L71x",
        "outputId": "6cf48f9a-7785-4764-8b35-23bf6eedde9b"
      },
      "outputs": [
        {
          "data": {
            "text/plain": [
              "{'en': 0, 'fr': 1}"
            ]
          },
          "execution_count": null,
          "metadata": {},
          "output_type": "execute_result"
        }
      ],
      "source": [
        "print(tokenizer.lang2id)"
      ]
    },
    {
      "cell_type": "markdown",
      "metadata": {
        "id": "drhdr0z0L71y"
      },
      "source": [
        "Next, create an example input:"
      ]
    },
    {
      "cell_type": "code",
      "execution_count": null,
      "metadata": {
        "id": "K8qRo-KbL71y"
      },
      "outputs": [],
      "source": [
        "input_ids = torch.tensor([tokenizer.encode(\"Wikipedia was used to\")])  # batch size of 1"
      ]
    },
    {
      "cell_type": "markdown",
      "metadata": {
        "id": "e9uZOPu8L71y"
      },
      "source": [
        "Set the language id as `\"en\"` and use it to define the language embedding. The language embedding is a tensor filled with `0` since that is the language id for English. This tensor should be the same size as `input_ids`."
      ]
    },
    {
      "cell_type": "code",
      "execution_count": null,
      "metadata": {
        "id": "7Ig7zOkVL71z"
      },
      "outputs": [],
      "source": [
        "language_id = tokenizer.lang2id[\"en\"]  # 0\n",
        "langs = torch.tensor([language_id] * input_ids.shape[1])  # torch.tensor([0, 0, 0, ..., 0])\n",
        "\n",
        "# We reshape it to be of size (batch_size, sequence_length)\n",
        "langs = langs.view(1, -1)  # is now of shape [1, sequence_length] (we have a batch size of 1)"
      ]
    },
    {
      "cell_type": "markdown",
      "metadata": {
        "id": "NruenghwL71z"
      },
      "source": [
        "Now you can pass the `input_ids` and language embedding to the model:"
      ]
    },
    {
      "cell_type": "code",
      "execution_count": null,
      "metadata": {
        "id": "mbS9w-RBL71z"
      },
      "outputs": [],
      "source": [
        "outputs = model(input_ids, langs=langs)"
      ]
    },
    {
      "cell_type": "markdown",
      "metadata": {
        "id": "HIfj4BnuL71z"
      },
      "source": [
        "The [run_generation.py](https://github.com/huggingface/transformers/tree/main/examples/pytorch/text-generation/run_generation.py) script can generate text with language embeddings using the `xlm-clm` checkpoints."
      ]
    },
    {
      "cell_type": "markdown",
      "metadata": {
        "id": "72j-OHeuL71z"
      },
      "source": [
        "### XLM without language embeddings"
      ]
    },
    {
      "cell_type": "markdown",
      "metadata": {
        "id": "DwuyjxOvL710"
      },
      "source": [
        "The following XLM models do not require language embeddings during inference:\n",
        "\n",
        "- `xlm-mlm-17-1280` (Masked language modeling, 17 languages)\n",
        "- `xlm-mlm-100-1280` (Masked language modeling, 100 languages)\n",
        "\n",
        "These models are used for generic sentence representations, unlike the previous XLM checkpoints."
      ]
    },
    {
      "cell_type": "markdown",
      "metadata": {
        "id": "9Smme1sPL710"
      },
      "source": [
        "## BERT"
      ]
    },
    {
      "cell_type": "markdown",
      "metadata": {
        "id": "rtpQcPN9L710"
      },
      "source": [
        "The following BERT models can be used for multilingual tasks:\n",
        "\n",
        "- `bert-base-multilingual-uncased` (Masked language modeling + Next sentence prediction, 102 languages)\n",
        "- `bert-base-multilingual-cased` (Masked language modeling + Next sentence prediction, 104 languages)\n",
        "\n",
        "These models do not require language embeddings during inference. They should identify the language from the\n",
        "context and infer accordingly."
      ]
    },
    {
      "cell_type": "markdown",
      "metadata": {
        "id": "jM7w88sRL710"
      },
      "source": [
        "## XLM-RoBERTa"
      ]
    },
    {
      "cell_type": "markdown",
      "metadata": {
        "id": "_zXFjX1QL710"
      },
      "source": [
        "The following XLM-RoBERTa models can be used for multilingual tasks:\n",
        "\n",
        "- `xlm-roberta-base` (Masked language modeling, 100 languages)\n",
        "- `xlm-roberta-large` (Masked language modeling, 100 languages)\n",
        "\n",
        "XLM-RoBERTa was trained on 2.5TB of newly created and cleaned CommonCrawl data in 100 languages. It provides strong gains over previously released multilingual models like mBERT or XLM on downstream tasks like classification, sequence labeling, and question answering."
      ]
    },
    {
      "cell_type": "markdown",
      "metadata": {
        "id": "0iyekz0xL710"
      },
      "source": [
        "## M2M100"
      ]
    },
    {
      "cell_type": "markdown",
      "metadata": {
        "id": "myQPMAvqL710"
      },
      "source": [
        "The following M2M100 models can be used for multilingual translation:\n",
        "\n",
        "- `facebook/m2m100_418M` (Translation)\n",
        "- `facebook/m2m100_1.2B` (Translation)\n",
        "\n",
        "In this example, load the `facebook/m2m100_418M` checkpoint to translate from Chinese to English. You can set the source language in the tokenizer:"
      ]
    },
    {
      "cell_type": "code",
      "execution_count": null,
      "metadata": {
        "id": "kDm8T7z4L710"
      },
      "outputs": [],
      "source": [
        "from transformers import M2M100ForConditionalGeneration, M2M100Tokenizer\n",
        "\n",
        "en_text = \"Do not meddle in the affairs of wizards, for they are subtle and quick to anger.\"\n",
        "chinese_text = \"不要插手巫師的事務, 因為他們是微妙的, 很快就會發怒.\"\n",
        "\n",
        "tokenizer = M2M100Tokenizer.from_pretrained(\"facebook/m2m100_418M\", src_lang=\"zh\")\n",
        "model = M2M100ForConditionalGeneration.from_pretrained(\"facebook/m2m100_418M\")"
      ]
    },
    {
      "cell_type": "markdown",
      "metadata": {
        "id": "2u0-lkGVL711"
      },
      "source": [
        "Tokenize the text:"
      ]
    },
    {
      "cell_type": "code",
      "execution_count": null,
      "metadata": {
        "id": "BVA-a9eZL711"
      },
      "outputs": [],
      "source": [
        "encoded_zh = tokenizer(chinese_text, return_tensors=\"pt\")"
      ]
    },
    {
      "cell_type": "markdown",
      "metadata": {
        "id": "Mm61YecML711"
      },
      "source": [
        "M2M100 forces the target language id as the first generated token to translate to the target language. Set the `forced_bos_token_id` to `en` in the `generate` method to translate to English:"
      ]
    },
    {
      "cell_type": "code",
      "execution_count": null,
      "metadata": {
        "id": "MAH8SQC7L711",
        "outputId": "eb477951-aace-430f-80e8-fa54e9fb5a1e"
      },
      "outputs": [
        {
          "data": {
            "text/plain": [
              "'Do not interfere with the matters of the witches, because they are delicate and will soon be angry.'"
            ]
          },
          "execution_count": null,
          "metadata": {},
          "output_type": "execute_result"
        }
      ],
      "source": [
        "generated_tokens = model.generate(**encoded_zh, forced_bos_token_id=tokenizer.get_lang_id(\"en\"))\n",
        "tokenizer.batch_decode(generated_tokens, skip_special_tokens=True)"
      ]
    },
    {
      "cell_type": "markdown",
      "metadata": {
        "id": "h4RhemEJL712"
      },
      "source": [
        "## MBart"
      ]
    },
    {
      "cell_type": "markdown",
      "metadata": {
        "id": "ycYTtQLfL712"
      },
      "source": [
        "The following MBart models can be used for multilingual translation:\n",
        "\n",
        "- `facebook/mbart-large-50-one-to-many-mmt` (One-to-many multilingual machine translation, 50 languages)\n",
        "- `facebook/mbart-large-50-many-to-many-mmt` (Many-to-many multilingual machine translation, 50 languages)\n",
        "- `facebook/mbart-large-50-many-to-one-mmt` (Many-to-one multilingual machine translation, 50 languages)\n",
        "- `facebook/mbart-large-50` (Multilingual translation, 50 languages)\n",
        "- `facebook/mbart-large-cc25`\n",
        "\n",
        "In this example, load the `facebook/mbart-large-50-many-to-many-mmt` checkpoint to translate Finnish to English. You can set the source language in the tokenizer:"
      ]
    },
    {
      "cell_type": "code",
      "execution_count": null,
      "metadata": {
        "id": "o3K_hAxeL712"
      },
      "outputs": [],
      "source": [
        "from transformers import AutoTokenizer, AutoModelForSeq2SeqLM\n",
        "\n",
        "en_text = \"Do not meddle in the affairs of wizards, for they are subtle and quick to anger.\"\n",
        "fi_text = \"Älä sekaannu velhojen asioihin, sillä ne ovat hienovaraisia ja nopeasti vihaisia.\"\n",
        "\n",
        "tokenizer = AutoTokenizer.from_pretrained(\"facebook/mbart-large-50-many-to-many-mmt\", src_lang=\"fi_FI\")\n",
        "model = AutoModelForSeq2SeqLM.from_pretrained(\"facebook/mbart-large-50-many-to-many-mmt\")"
      ]
    },
    {
      "cell_type": "markdown",
      "metadata": {
        "id": "99R8ne8mL712"
      },
      "source": [
        "Tokenize the text:"
      ]
    },
    {
      "cell_type": "code",
      "execution_count": null,
      "metadata": {
        "id": "jowyOp_ZL712"
      },
      "outputs": [],
      "source": [
        "encoded_en = tokenizer(en_text, return_tensors=\"pt\")"
      ]
    },
    {
      "cell_type": "markdown",
      "metadata": {
        "id": "_CYfsuGwL713"
      },
      "source": [
        "MBart forces the target language id as the first generated token to translate to the target language. Set the `forced_bos_token_id` to `en` in the `generate` method to translate to English:"
      ]
    },
    {
      "cell_type": "code",
      "execution_count": null,
      "metadata": {
        "id": "8Y_R0NgKL713",
        "outputId": "78ff7a40-4705-460d-d5f2-1c0f44b064b5"
      },
      "outputs": [
        {
          "data": {
            "text/plain": [
              "\"Don't interfere with the wizard's affairs, because they are subtle, will soon get angry.\""
            ]
          },
          "execution_count": null,
          "metadata": {},
          "output_type": "execute_result"
        }
      ],
      "source": [
        "generated_tokens = model.generate(**encoded_en, forced_bos_token_id=tokenizer.lang_code_to_id(\"en_XX\"))\n",
        "tokenizer.batch_decode(generated_tokens, skip_special_tokens=True)"
      ]
    },
    {
      "cell_type": "markdown",
      "metadata": {
        "id": "9kmidzM4L713"
      },
      "source": [
        "If you are using the `facebook/mbart-large-50-many-to-one-mmt` checkpoint, you don't need to force the target language id as the first generated token otherwise the usage is the same."
      ]
    }
  ],
  "metadata": {
    "colab": {
      "provenance": []
    }
  },
  "nbformat": 4,
  "nbformat_minor": 0
}